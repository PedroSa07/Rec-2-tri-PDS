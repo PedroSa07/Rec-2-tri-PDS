{
  "nbformat": 4,
  "nbformat_minor": 0,
  "metadata": {
    "colab": {
      "provenance": []
    },
    "kernelspec": {
      "name": "python3",
      "display_name": "Python 3"
    },
    "language_info": {
      "name": "python"
    }
  },
  "cells": [
    {
      "cell_type": "code",
      "source": [
        "class Funcionario:\n",
        "    def __init__(self, nome, salario):\n",
        "        self.nome = nome\n",
        "        self.salario = salario\n",
        "\n",
        "    def aumentar_salario(self, percentual):\n",
        "        aumento = self.salario * percentual / 100\n",
        "        self.salario += aumento\n",
        "\n",
        "class Gerente(Funcionario):\n",
        "    def __init__(self, nome, salario, departamento):\n",
        "        super().__init__(nome, salario)\n",
        "        self.departamento = departamento\n",
        "\n",
        "    def relatorio(self):\n",
        "        print(f\"Gerente {self.nome} trabalha no departamento {self.departamento} e tem salário de R${self.salario:.2f}\")\n",
        "\n",
        "\n",
        "funcionario1 = Funcionario(\"Paulo\", 5000.0)\n",
        "print(f\"Funcionário {funcionario1.nome} tem salário inicial de R${funcionario1.salario:.2f}\")\n",
        "funcionario1.aumentar_salario(10)\n",
        "print(f\"Após aumento, o salário de {funcionario1.nome} é R${funcionario1.salario:.2f}\")\n",
        "\n",
        "gerente1 = Gerente(\"Guilherme\", 10000.0, \"TI\")\n",
        "print(f\"\\nRelatório do gerente:\")\n",
        "gerente1.relatorio()\n",
        "\n",
        "gerente1.aumentar_salario(15)\n",
        "print(f\"Salário atualizado do gerente {gerente1.nome}: R${gerente1.salario:.2f}\")\n"
      ],
      "metadata": {
        "colab": {
          "base_uri": "https://localhost:8080/"
        },
        "id": "JHjI6zlJRoJM",
        "outputId": "bc43bfc9-d3f8-47d9-e0cc-183b22f6e04e"
      },
      "execution_count": 4,
      "outputs": [
        {
          "output_type": "stream",
          "name": "stdout",
          "text": [
            "Funcionário Paulo tem salário inicial de R$5000.00\n",
            "Após aumento, o salário de Paulo é R$5500.00\n",
            "\n",
            "Relatório do gerente:\n",
            "Gerente Guilherme trabalha no departamento TI e tem salário de R$10000.00\n",
            "Salário atualizado do gerente Guilherme: R$11500.00\n"
          ]
        }
      ]
    }
  ]
}