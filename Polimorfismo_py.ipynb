{
  "nbformat": 4,
  "nbformat_minor": 0,
  "metadata": {
    "colab": {
      "provenance": []
    },
    "kernelspec": {
      "name": "python3",
      "display_name": "Python 3"
    },
    "language_info": {
      "name": "python"
    }
  },
  "cells": [
    {
      "cell_type": "code",
      "source": [
        "class Funcionario:\n",
        "    def __init__(self, nome):\n",
        "        self.nome = nome\n",
        "\n",
        "    def trabalhar(self):\n",
        "        raise NotImplementedError(\"Método deve ser implementado nas classes filhas\")\n",
        "\n",
        "class Professor(Funcionario):\n",
        "    def trabalhar(self):\n",
        "        return f\"O professor {self.nome} está dando aula.\"\n",
        "\n",
        "class Cozinheiro(Funcionario):\n",
        "    def trabalhar(self):\n",
        "        return f\"O cozinheiro {self.nome} está preparando uma refeição.\"\n",
        "\n",
        "\n",
        "professor1 = Professor(\"Pedro\")\n",
        "cozinheiro1 = Cozinheiro(\"Paulo\")\n",
        "\n",
        "print(professor1.trabalhar())\n",
        "print(cozinheiro1.trabalhar())\n",
        "print()\n",
        "\n",
        "class Animal:\n",
        "    def __init__(self, nome):\n",
        "        self.nome = nome\n",
        "\n",
        "    def emitir_som(self):\n",
        "        raise NotImplementedError(\"Método deve ser implementado nas classes filhas\")\n",
        "\n",
        "class Cachorro(Animal):\n",
        "    def emitir_som(self):\n",
        "        return \"Akira faz au au!\"\n",
        "\n",
        "class Gato(Animal):\n",
        "    def emitir_som(self):\n",
        "        return \"Yang faz miau!\"\n",
        "\n",
        "class Passaro(Animal):\n",
        "    def emitir_som(self):\n",
        "        return \"Maria faz piu piu!\"\n",
        "\n",
        "class Porco(Animal):\n",
        "    def emitir_som(self):\n",
        "        return \"Patrick faz oinc oinc!\"\n",
        "\n",
        "cachorro1 = Cachorro(\"Akira\")\n",
        "gato1 = Gato(\"Yang\")\n",
        "passaro1 = Passaro(\"Maria\")\n",
        "porco1 = Porco(\"Patrick\")\n",
        "\n",
        "print(cachorro1.emitir_som())\n",
        "print(gato1.emitir_som())\n",
        "print(passaro1.emitir_som())\n",
        "print(porco1.emitir_som())\n",
        "print()\n",
        "\n",
        "class Veiculo:\n",
        "    def __init__(self, marca):\n",
        "        self.marca = marca\n",
        "\n",
        "    def acelerar(self):\n",
        "        raise NotImplementedError(\"Método deve ser implementado nas classes filhas\")\n",
        "\n",
        "class Caminhao(Veiculo):\n",
        "    def acelerar(self):\n",
        "        return \"Caminhão está acelerando.\"\n",
        "\n",
        "class Carro(Veiculo):\n",
        "    def acelerar(self):\n",
        "        return \"Carro está acelerando.\"\n",
        "\n",
        "class Moto(Veiculo):\n",
        "    def acelerar(self):\n",
        "        return \"Moto está acelerando.\"\n",
        "\n",
        "caminhao1 = Caminhao(\"Volvo\")\n",
        "carro1 = Carro(\"Fusca\")\n",
        "moto1 = Moto(\"Honda\")\n",
        "\n",
        "print(caminhao1.acelerar())\n",
        "print(carro1.acelerar())\n",
        "print(moto1.acelerar())\n",
        "print()\n",
        ""
      ],
      "metadata": {
        "colab": {
          "base_uri": "https://localhost:8080/"
        },
        "id": "jlnziHLJWaMY",
        "outputId": "70b45158-336e-4aa2-e5b8-0b49bf8bd780"
      },
      "execution_count": 7,
      "outputs": [
        {
          "output_type": "stream",
          "name": "stdout",
          "text": [
            "O professor Pedro está dando aula.\n",
            "O cozinheiro Paulo está preparando uma refeição.\n",
            "\n",
            "Akira faz au au!\n",
            "Yang faz miau!\n",
            "Maria faz piu piu!\n",
            "Patrick faz oinc oinc!\n",
            "\n",
            "Caminhão está acelerando.\n",
            "Carro está acelerando.\n",
            "Moto está acelerando.\n",
            "\n"
          ]
        }
      ]
    }
  ]
}