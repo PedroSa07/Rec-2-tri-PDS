{
  "nbformat": 4,
  "nbformat_minor": 0,
  "metadata": {
    "colab": {
      "provenance": []
    },
    "kernelspec": {
      "name": "python3",
      "display_name": "Python 3"
    },
    "language_info": {
      "name": "python"
    }
  },
  "cells": [
    {
      "cell_type": "code",
      "execution_count": 2,
      "metadata": {
        "colab": {
          "base_uri": "https://localhost:8080/"
        },
        "id": "mndqPYT1QgOX",
        "outputId": "0f0d23c8-e993-4e48-e446-c185ab5ab5f3"
      },
      "outputs": [
        {
          "output_type": "stream",
          "name": "stdout",
          "text": [
            "True\n",
            "negativo\n",
            "par\n",
            "True\n",
            "True\n",
            "Ana é uma criança\n",
            "True\n",
            "13\n",
            "5\n",
            "True\n"
          ]
        }
      ],
      "source": [
        "class Validacao:\n",
        "    def __init__(self, nome, idade, sexo, numero_da_chamada, serie, ano_colegio, cidade, estado, pais):\n",
        "        self.nome = nome\n",
        "        self.idade = idade\n",
        "        self.sexo = sexo\n",
        "        self.numero_da_chamada = numero_da_chamada\n",
        "        self.serie = serie\n",
        "        self.ano_colegio = ano_colegio\n",
        "        self.cidade = cidade\n",
        "        self.estado = estado\n",
        "        self.pais = pais\n",
        "\n",
        "    def eh_positivo(self, numero): # Add 'self' as the first argument\n",
        "        return numero > 0\n",
        "\n",
        "    def classifica_numero(self, numero): # Add 'self' as the first argument\n",
        "        if numero > 0:\n",
        "            return \"positivo\"\n",
        "        elif numero < 0:\n",
        "            return \"negativo\"\n",
        "        else:\n",
        "            return \"zero\"\n",
        "\n",
        "    def eh_par_ou_impar(self, numero): # Add 'self' as the first argument\n",
        "        if numero % 2 == 0:\n",
        "            return \"par\"\n",
        "        else:\n",
        "            return \"ímpar\"\n",
        "\n",
        "    def eh_primo(self, numero): # Add 'self' as the first argument\n",
        "        if numero <= 1:\n",
        "            return False\n",
        "        for i in range(2, int(numero**0.5) + 1):\n",
        "            if numero % i == 0:\n",
        "                return False\n",
        "        return True\n",
        "\n",
        "    def valida_idade(self, idade): # Add 'self' as the first argument\n",
        "        return 0 <= idade <= 100\n",
        "\n",
        "    def classifica_idade(self, nome, idade): # Add 'self' as the first argument\n",
        "        if idade < 1:\n",
        "            return f\"{nome} é um bebê\"\n",
        "        elif 1 <= idade <= 12:\n",
        "            return f\"{nome} é uma criança\"\n",
        "        elif 13 <= idade <= 17:\n",
        "            return f\"{nome} é um adolescente\"\n",
        "        elif 18 <= idade <= 59:\n",
        "            return f\"{nome} é um adulto\"\n",
        "        else:\n",
        "            return f\"{nome} é um idoso\"\n",
        "\n",
        "    def valida_comprimento_minimo(self, string): # Add 'self' as the first argument\n",
        "        return len(string) >= 5\n",
        "\n",
        "    def quantidade_caracteres_string(self, string): # Add 'self' as the first argument\n",
        "        return len(string)\n",
        "\n",
        "    def quantidade_elementos_array(self, array): # Add 'self' as the first argument\n",
        "        return len(array)\n",
        "\n",
        "    def verifica_intervalo(self, numero, inicio, fim): # Add 'self' as the first argument\n",
        "        return inicio <= numero <= fim\n",
        "\n",
        "\n",
        "objeto_validacao = Validacao(\"Pedro\", 17, \"Masculino\", 17, \"3º\", 2024, \"Cruzeiro do Oeste\", \"PR\", \"Brasil\")\n",
        "\n",
        "\n",
        "print(objeto_validacao.eh_positivo(5))\n",
        "print(objeto_validacao.classifica_numero(-3))\n",
        "print(objeto_validacao.eh_par_ou_impar(10))\n",
        "print(objeto_validacao.eh_primo(7))\n",
        "print(objeto_validacao.valida_idade(24))\n",
        "print(objeto_validacao.classifica_idade(\"Ana\", 4))\n",
        "print(objeto_validacao.valida_comprimento_minimo(\"Python\"))\n",
        "print(objeto_validacao.quantidade_caracteres_string(\"Olá, tudo bem\"))\n",
        "print(objeto_validacao.quantidade_elementos_array([1, 2, 3, 4, 5]))\n",
        "print(objeto_validacao.verifica_intervalo(25, 10, 50))"
      ]
    }
  ]
}